{
 "cells": [
  {
   "cell_type": "markdown",
   "id": "04091361",
   "metadata": {},
   "source": [
    "# 생선 분류 문제"
   ]
  },
  {
   "cell_type": "markdown",
   "id": "8e4dfb07",
   "metadata": {},
   "source": [
    "생선의 종류를 분류하는 머신러닝 모델 훈련\n",
    "\n",
    "사용할 알고리즘: **KNN(K-Nearest Neighbors)**\n",
    "- 이 알고리즘은 주변에서 가장 가까운 5개(Default)의 데이터를 보고 **다수결의 원칙에 따라** 데이터를 예측한다.\n",
    "\n",
    "[생선 데이터](http://www.kaggle.com/aungpyaeap/fish-market)"
   ]
  },
  {
   "cell_type": "markdown",
   "id": "e2cbc135",
   "metadata": {},
   "source": [
    "## 도미 데이터 준비하기"
   ]
  },
  {
   "cell_type": "code",
   "execution_count": 1,
   "id": "92502fb0",
   "metadata": {},
   "outputs": [
    {
     "name": "stdout",
     "output_type": "stream",
     "text": [
      "How many breams? 35\n"
     ]
    }
   ],
   "source": [
    "# 도미의 길이\n",
    "bream_length = [25.4, 26.3, 26.5, 29.0, 29.0, 29.7, 29.7, 30.0, 30.0, 30.7, 31.0, 31.0, \n",
    "                31.5, 32.0, 32.0, 32.0, 33.0, 33.0, 33.5, 33.5, 34.0, 34.0, 34.5, 35.0, \n",
    "                35.0, 35.0, 35.0, 36.0, 36.0, 37.0, 38.5, 38.5, 39.5, 41.0, 41.0]\n",
    "\n",
    "# 도미의 무게\n",
    "bream_weight = [242.0, 290.0, 340.0, 363.0, 430.0, 450.0, 500.0, 390.0, 450.0, 500.0, 475.0, 500.0, \n",
    "                500.0, 340.0, 600.0, 600.0, 700.0, 700.0, 610.0, 650.0, 575.0, 685.0, 620.0, 680.0, \n",
    "                700.0, 725.0, 720.0, 714.0, 850.0, 1000.0, 920.0, 955.0, 925.0, 975.0, 950.0]\n",
    "\n",
    "print(f'How many breams? {len(bream_length)}')"
   ]
  },
  {
   "cell_type": "markdown",
   "id": "9d4e37f8",
   "metadata": {},
   "source": [
    "### 도미 데이터 시각화"
   ]
  },
  {
   "cell_type": "code",
   "execution_count": 2,
   "id": "dd079e66",
   "metadata": {},
   "outputs": [
    {
     "data": {
      "image/png": "[encoded data removed]",
      "text/plain": [
       "<Figure size 432x288 with 1 Axes>"
      ]
     },
     "metadata": {
      "needs_background": "light"
     },
     "output_type": "display_data"
    }
   ],
   "source": [
    "import matplotlib.pyplot as plt\n",
    "\n",
    "plt.scatter(bream_length, bream_weight)\n",
    "plt.xlabel(\"Breams' Length\")\n",
    "plt.ylabel(\"Breams' Weight\")\n",
    "plt.show()"
   ]
  },
  {
   "cell_type": "markdown",
   "id": "56b2e0cd",
   "metadata": {},
   "source": [
    "## 빙어 데이터 준비하기"
   ]
  },
  {
   "cell_type": "code",
   "execution_count": 3,
   "id": "dcc816c9",
   "metadata": {},
   "outputs": [
    {
     "name": "stdout",
     "output_type": "stream",
     "text": [
      "How many smelts? 14\n"
     ]
    }
   ],
   "source": [
    "smelt_length = [9.8, 10.5, 10.6, 11.0, 11.2, 11.3, 11.8, 11.8, 12.0, 12.2, 12.4, 13.0, 14.3, 15.0]\n",
    "smelt_weight = [6.7, 7.5, 7.0, 9.7, 9.8, 8.7, 10.0, 9.9, 9.8, 12.2, 13.4, 12.2, 19.7, 19.9]\n",
    "\n",
    "print(f'How many smelts? {len(smelt_length)}')"
   ]
  },
  {
   "cell_type": "markdown",
   "id": "aa42b53c",
   "metadata": {},
   "source": [
    "## 도미와 빙어 데이터 비교"
   ]
  },
  {
   "cell_type": "code",
   "execution_count": 4,
   "id": "04e81984",
   "metadata": {},
   "outputs": [
    {
     "data": {
      "image/png": "[encoded data removed]",
      "text/plain": [
       "<Figure size 432x288 with 1 Axes>"
      ]
     },
     "metadata": {
      "needs_background": "light"
     },
     "output_type": "display_data"
    }
   ],
   "source": [
    "plt.scatter(bream_length, bream_weight)\n",
    "plt.scatter(smelt_length, smelt_weight)\n",
    "plt.xlabel('Length')\n",
    "plt.ylabel('Weight')\n",
    "plt.show()"
   ]
  },
  {
   "cell_type": "markdown",
   "id": "7521e62a",
   "metadata": {},
   "source": [
    "## K-Nearest Neighbors(KNN)"
   ]
  },
  {
   "cell_type": "code",
   "execution_count": 5,
   "id": "e662a239",
   "metadata": {},
   "outputs": [],
   "source": [
    "# 도미와 빙어 데이터를 하나의 데이터로 합침\n",
    "length = bream_length + smelt_length\n",
    "weight = bream_weight + smelt_weight\n",
    "\n",
    "# scikit-learn을 사용하기 위해선 2차원 리스트 구조로 되어있어야 함\n",
    "# 특성이 2개이므로 2개의 열을 가진 매트릭스 생성\n",
    "fish_data = [[l, w] for l, w in zip(length, weight)]\n",
    "\n",
    "# 정답 데이터를 알려줌\n",
    "fish_target = [1] * 35 + [0] * 14"
   ]
  },
  {
   "cell_type": "markdown",
   "id": "ee1ddf68",
   "metadata": {},
   "source": [
    "머신러닝에서 2개를 구분하는 경우 찾으려는 대상을 1로 놓고 그 외에는 0으로 놓는다. 위의 예는 도미를 찾는 대상으로 정의했기 때문에 도미를 1로 놓고 빙어를 0으로 놓았다."
   ]
  },
  {
   "cell_type": "markdown",
   "id": "039bd10e",
   "metadata": {},
   "source": [
    "### KNeighborsClassifier 객체 생성"
   ]
  },
  {
   "cell_type": "code",
   "execution_count": 6,
   "id": "64fe6595",
   "metadata": {},
   "outputs": [],
   "source": [
    "from sklearn.neighbors import KNeighborsClassifier\n",
    "\n",
    "# KNeighborsClassifier 클래스의 객체를 만듦\n",
    "kn = KNeighborsClassifier()"
   ]
  },
  {
   "cell_type": "markdown",
   "id": "410f4694",
   "metadata": {},
   "source": [
    "### 훈련 과정"
   ]
  },
  {
   "cell_type": "code",
   "execution_count": 7,
   "id": "af7e086a",
   "metadata": {},
   "outputs": [
    {
     "data": {
      "text/plain": [
       "KNeighborsClassifier()"
      ]
     },
     "execution_count": 7,
     "metadata": {},
     "output_type": "execute_result"
    }
   ],
   "source": [
    "kn.fit(fish_data, fish_target)"
   ]
  },
  {
   "cell_type": "markdown",
   "id": "bc2b1923",
   "metadata": {},
   "source": [
    "### 모델 평가"
   ]
  },
  {
   "cell_type": "code",
   "execution_count": 8,
   "id": "cde4bfbd",
   "metadata": {},
   "outputs": [
    {
     "data": {
      "text/plain": [
       "1.0"
      ]
     },
     "execution_count": 8,
     "metadata": {},
     "output_type": "execute_result"
    }
   ],
   "source": [
    "kn.score(fish_data, fish_target)"
   ]
  },
  {
   "cell_type": "markdown",
   "id": "d996f4c5",
   "metadata": {},
   "source": [
    "1.0은 모든 데이터를 정확히 맞혔다는 것을 의미한다. 예를 들어 0.5라면 절반만 맞혔다는 의미이다. 이 값을 **정확도(accuracy)** 라고 부른다. 이 모델은 정확도가 100%이며 도미와 빙어를 완벽하게 분류했다."
   ]
  },
  {
   "cell_type": "markdown",
   "id": "80624410",
   "metadata": {},
   "source": [
    "### 새로운 데이터의 정답을 예측"
   ]
  },
  {
   "cell_type": "code",
   "execution_count": 9,
   "id": "f7ab32ce",
   "metadata": {},
   "outputs": [
    {
     "data": {
      "text/plain": [
       "array([1])"
      ]
     },
     "execution_count": 9,
     "metadata": {},
     "output_type": "execute_result"
    }
   ],
   "source": [
    "kn.predict([[30, 600]])"
   ]
  },
  {
   "cell_type": "markdown",
   "id": "306c16fb",
   "metadata": {},
   "source": [
    "**KNN** 은 어떤 데이터에 대한 답을 구할 때 다른 데이터를 보고 다수를 차지하는 것을 정답으로 사용한다. 즉, 주위의 데이터로 현재 데이터를 판단하는 것이다.\n",
    "\n",
    "새로운 데이터에 대해 예측할 때는 **가장 가까운 직선거리**에 어떤 데이터가 있는지를 살피기만 하면 된다. \n",
    "\n",
    "단점:\n",
    "- 위의 특징 때문에 데이터가 아주 많은 경우 사용하기 어렵다. \n",
    "- 데이터가 크기 때문에 메로리가 많이 필요하고 직선거리를 계산하는 데도 많은 시간이 필요하기 때문이다."
   ]
  },
  {
   "cell_type": "code",
   "execution_count": 12,
   "id": "6e4d8327",
   "metadata": {},
   "outputs": [],
   "source": [
    "# # 우리가 전달한 모든 fish_data\n",
    "# print(kn._fit_X)\n",
    "\n",
    "# # 우리가 전달한 모든 fish_target\n",
    "# print(kn._y)"
   ]
  },
  {
   "cell_type": "markdown",
   "id": "1c74b504",
   "metadata": {},
   "source": [
    "KNN은 무엇인가 훈련되는 게 없다. `fit()` 메서드에 전달한 데이터를 모두 저장하고 있다가 새로운 데이터가 등장하면 가장 가까운 데이터를 참고하여 도미인지 빙어인지를 구분한다."
   ]
  },
  {
   "cell_type": "markdown",
   "id": "88cb7a12",
   "metadata": {},
   "source": [
    "### 참고할 데이터가 default=5 가 아닌 49개라면"
   ]
  },
  {
   "cell_type": "code",
   "execution_count": 13,
   "id": "a014d592",
   "metadata": {},
   "outputs": [
    {
     "data": {
      "text/plain": [
       "0.7142857142857143"
      ]
     },
     "execution_count": 13,
     "metadata": {},
     "output_type": "execute_result"
    }
   ],
   "source": [
    "# 참고 데이터를 49개로 한 kn49 모델\n",
    "kn49 = KNeighborsClassifier(n_neighbors=49)\n",
    "\n",
    "kn49.fit(fish_data, fish_target)      # 모델 훈련\n",
    "kn49.score(fish_data, fish_target)    # 모델 평가"
   ]
  },
  {
   "cell_type": "code",
   "execution_count": 14,
   "id": "2cae8ff9",
   "metadata": {},
   "outputs": [
    {
     "name": "stdout",
     "output_type": "stream",
     "text": [
      "0.7142857142857143\n"
     ]
    }
   ],
   "source": [
    "print(35 / 49)"
   ]
  },
  {
   "cell_type": "markdown",
   "id": "9a8d54c1",
   "metadata": {},
   "source": [
    "KNN은 위에서 가장 가까운 데이터를 참고하여 도미인지 빙어인지를 구분하다고 했었는데, 그렇다면 가장 가까운 몇 개의 데이터를 참고할까? KNeighborsClassifier 클래스의 기본값은 5이다. 이 기준은 `n_neighbors` 매개변수로 바꿀 수 있다.\n",
    "\n",
    "위의 예에서 `fish_data`의 데이터 49개 중에 도미가 35개로 다수를 차지하므로 어떤 데이터를 넣어도 무조건 도미로 예측할 것이다.\n",
    "\n",
    "이 값은 결국 49마리 생선 중에 35마리의 도미의 개수를 나눈 값과 같다.\n",
    "\n",
    "이 경우 점수가 1 미만으로 내려가기 때문에 `n_neighbors` 매개변수를 49로 두는 것은 좋지 않다. 기본값인 5로 하여 도미를 완벽하게 분류한 모델을 사용하는 것이 좋을 것이다."
   ]
  },
  {
   "cell_type": "markdown",
   "id": "654e1400",
   "metadata": {},
   "source": [
    "## Note: 점수가 1.0 아래로 내려가기 시작하는 이웃의 개수"
   ]
  },
  {
   "cell_type": "code",
   "execution_count": 15,
   "id": "b73677e3",
   "metadata": {
    "scrolled": true
   },
   "outputs": [
    {
     "name": "stdout",
     "output_type": "stream",
     "text": [
      "#18, Score: 0.9796\n"
     ]
    }
   ],
   "source": [
    "kn = KNeighborsClassifier()\n",
    "kn.fit(fish_data, fish_target)\n",
    "\n",
    "for n in range(5, 50):\n",
    "    # KNN 이웃 개수 설정\n",
    "    kn.n_neighbors = n\n",
    "    # 점수 계산\n",
    "    score = kn.score(fish_data, fish_target)\n",
    "    # 100% 정확도에 미치지 못하는 시작지점의 이웃 및 개수 출력\n",
    "    if score < 1:\n",
    "        print(f'#{n}, Score: {score:.4f}')\n",
    "        break"
   ]
  },
  {
   "cell_type": "code",
   "execution_count": null,
   "id": "f3abb0f7",
   "metadata": {},
   "outputs": [],
   "source": []
  }
 ],
 "metadata": {
  "kernelspec": {
   "display_name": "Python 3",
   "language": "python",
   "name": "python3"
  },
  "language_info": {
   "codemirror_mode": {
    "name": "ipython",
    "version": 3
   },
   "file_extension": ".py",
   "mimetype": "text/x-python",
   "name": "python",
   "nbconvert_exporter": "python",
   "pygments_lexer": "ipython3",
   "version": "3.7.10"
  }
 },
 "nbformat": 4,
 "nbformat_minor": 5
}

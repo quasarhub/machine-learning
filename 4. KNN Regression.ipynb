{
 "cells": [
  {
   "cell_type": "markdown",
   "id": "bbecc0f1",
   "metadata": {},
   "source": [
    "# KNN Regression"
   ]
  },
  {
   "cell_type": "markdown",
   "id": "10bf73c3",
   "metadata": {},
   "source": [
    "회귀는 클래스 중 하나로 분류하는 것이 아니라 임의의 어떤 숫자를 예측하는 문제이다. 즉, KNN 회귀는 이웃한 샘플의 타깃은 어떤 클래스가 아니라 임의의 수치이다. 가장 간단한 방법을 이 수치들의 평균을 구하는 것이다."
   ]
  },
  {
   "cell_type": "code",
   "execution_count": 32,
   "id": "15757d9a",
   "metadata": {},
   "outputs": [],
   "source": [
    "#-*- coding:utf-8 -*-\n",
    "import numpy as np\n",
    "\n",
    "perch_length = np.array([8.4, 13.7, 15.0, 16.2, 17.4, 18.0, 18.7, 19.0, 19.6, 20.0, 21.0, 21.0, 21.0, 21.3, 22.0, 22.0, 22.0, 22.0, 22.0, 22.5, 22.5, 22.7, 23.0, 23.5, 24.0, 24.0, 24.6, 25.0, 25.6, 26.5, 27.3, 27.5, 27.5, 27.5, 28.0, 28.7, 30.0, 32.8, 34.5, 35.0, 36.5, 36.0, 37.0, 37.0, 39.0, 39.0, 39.0, 40.0, 40.0, 40.0, 40.0, 42.0, 43.0, 43.0, 43.5, 44.0])\n",
    "perch_weight = np.array([5.9, 32.0, 40.0, 51.5, 70.0, 100.0, 78.0, 80.0, 85.0, 85.0, 110.0, 115.0, 125.0, 130.0, 120.0, 120.0, 130.0, 135.0, 110.0, 130.0, 150.0, 145.0, 150.0, 170.0, 225.0, 145.0, 188.0, 180.0, 197.0, 218.0, 300.0, 260.0, 265.0, 250.0, 250.0, 300.0, 320.0, 514.0, 556.0, 840.0, 685.0, 700.0, 700.0, 690.0, 900.0, 650.0, 820.0, 850.0, 900.0, 1015.0, 820.0, 1100.0, 1000.0, 1100.0, 1000.0, 1000.0])"
   ]
  },
  {
   "cell_type": "code",
   "execution_count": 33,
   "id": "39aeda0d",
   "metadata": {},
   "outputs": [
    {
     "data": {
      "image/png": "[encoded data removed]",
      "text/plain": [
       "<Figure size 432x288 with 1 Axes>"
      ]
     },
     "metadata": {
      "needs_background": "light"
     },
     "output_type": "display_data"
    }
   ],
   "source": [
    "import matplotlib.pyplot as plt\n",
    "\n",
    "plt.scatter(perch_length, perch_weight)\n",
    "plt.xlabel('length')\n",
    "plt.ylabel('weight')\n",
    "plt.show()"
   ]
  },
  {
   "cell_type": "markdown",
   "id": "28711bf4",
   "metadata": {},
   "source": [
    "농어의 길이가 커짐에 따라 무게도 늘어난다."
   ]
  },
  {
   "cell_type": "markdown",
   "id": "4875c823",
   "metadata": {},
   "source": [
    "## 훈련 셋과 테스트 셋으로 나누기"
   ]
  },
  {
   "cell_type": "code",
   "execution_count": 34,
   "id": "b9889365",
   "metadata": {},
   "outputs": [],
   "source": [
    "from sklearn.model_selection import train_test_split\n",
    "\n",
    "train_input, test_input, train_target, test_target = train_test_split(perch_length, perch_weight, random_state=42)"
   ]
  },
  {
   "cell_type": "markdown",
   "id": "33300a5d",
   "metadata": {},
   "source": [
    "사이킷런에서는 2차원 배열을 다루기 때문에 위의 데이터를 2차원 리스트로 바꿔야 한다."
   ]
  },
  {
   "cell_type": "code",
   "execution_count": 35,
   "id": "3b0afedb",
   "metadata": {},
   "outputs": [],
   "source": [
    "train_input = train_input.reshape(-1, 1)\n",
    "test_input = test_input.reshape(-1, 1)"
   ]
  },
  {
   "cell_type": "markdown",
   "id": "ab54d4c1",
   "metadata": {},
   "source": [
    "## 결정계수($R^2$)"
   ]
  },
  {
   "cell_type": "markdown",
   "id": "b81f1eaf",
   "metadata": {},
   "source": [
    "$$\n",
    "R^2 = 1 - \\frac{(타깃 - 예측)^2\\text{의 합}}{(타깃 - 평균)^2\\text{의 합}}\n",
    "$$"
   ]
  },
  {
   "cell_type": "code",
   "execution_count": 36,
   "id": "7f9f1476",
   "metadata": {},
   "outputs": [
    {
     "name": "stdout",
     "output_type": "stream",
     "text": [
      "Test Set Score: 0.992809406101064\n",
      "Training Set Score: 0.9698823289099254\n"
     ]
    }
   ],
   "source": [
    "from sklearn.neighbors import KNeighborsRegressor\n",
    "\n",
    "knr = KNeighborsRegressor()\n",
    "\n",
    "# KNN 회귀 모델 훈련\n",
    "knr.fit(train_input, train_target)\n",
    "\n",
    "# 테스트 셋의 점수 확인\n",
    "print(f'Test Set Score: {knr.score(test_input, test_target)}')\n",
    "\n",
    "# 훈련 셋의 점수 확인\n",
    "print(f'Training Set Score: {knr.score(train_input, train_target)}')"
   ]
  },
  {
   "cell_type": "markdown",
   "id": "641da7d9",
   "metadata": {},
   "source": [
    "위의 문제의 경우 훈련 셋의 결정계수 값이 테스트 셋의 결정계수 값보다 작으므로 과소적합(Underfitting)이 일어났다고 볼 수 있다. 과소적합의 문제를 해결하려면 KNN 알고리즘으로 모델을 더 복잡하게 만들어야 한다. 이웃의 개수 k 를 줄이면 훈련 셋에 있는 국지적인 패턴에 민감해진다."
   ]
  },
  {
   "cell_type": "code",
   "execution_count": 37,
   "id": "92600b35",
   "metadata": {},
   "outputs": [
    {
     "name": "stdout",
     "output_type": "stream",
     "text": [
      "Test Set Score: 0.9746459963987609\n",
      "Training Set Score: 0.9804899950518966\n"
     ]
    }
   ],
   "source": [
    "# 이웃의 개수를 3으로 설정한다.(Default는 5)\n",
    "knr.n_neighbors = 3\n",
    "\n",
    "# 모델을 다시 훈련한다.\n",
    "knr.fit(train_input, train_target)\n",
    "print(f'Test Set Score: {knr.score(test_input, test_target)}')\n",
    "print(f'Training Set Score: {knr.score(train_input, train_target)}')"
   ]
  },
  {
   "cell_type": "markdown",
   "id": "f24f1a70",
   "metadata": {},
   "source": [
    "예상대로 테스트 셋의 점수는 훈련 셋보다 낮아졌으므로 과소적합의 문제를 해결하였다. 또한 두 점수의 차이가 크지 않으므로 이 모델이 과대적합 된 것 같지도 않다."
   ]
  },
  {
   "cell_type": "markdown",
   "id": "a3eff947",
   "metadata": {},
   "source": [
    "## Mean Absolute Error"
   ]
  },
  {
   "cell_type": "code",
   "execution_count": 38,
   "id": "e1bf43b9",
   "metadata": {},
   "outputs": [
    {
     "name": "stdout",
     "output_type": "stream",
     "text": [
      "35.42380952380951\n"
     ]
    }
   ],
   "source": [
    "from sklearn.metrics import mean_absolute_error\n",
    "\n",
    "# 테스트 셋에 대한 예측을 만든다.\n",
    "test_prediction = knr.predict(test_input)\n",
    "\n",
    "# 테스트 셋에 대한 평균 절댓값 오차를 계산한다.\n",
    "mae = mean_absolute_error(test_target, test_prediction)\n",
    "print(mae)"
   ]
  },
  {
   "cell_type": "markdown",
   "id": "8e7eb616",
   "metadata": {},
   "source": [
    "위의 결과에 따르면 예측이 평균적으로 19g 정도 타깃과 다르다는 것을 알 수 있다. "
   ]
  },
  {
   "cell_type": "markdown",
   "id": "03f5f6ff",
   "metadata": {},
   "source": [
    "## n이 커짐에 따라 모델의 변화"
   ]
  },
  {
   "cell_type": "code",
   "execution_count": 39,
   "id": "849a6298",
   "metadata": {},
   "outputs": [
    {
     "data": {
      "image/png": "[encoded data removed]",
      "text/plain": [
       "<Figure size 432x288 with 1 Axes>"
      ]
     },
     "metadata": {
      "needs_background": "light"
     },
     "output_type": "display_data"
    },
    {
     "data": {
      "image/png": "[encoded data removed]",
      "text/plain": [
       "<Figure size 432x288 with 1 Axes>"
      ]
     },
     "metadata": {
      "needs_background": "light"
     },
     "output_type": "display_data"
    },
    {
     "data": {
      "image/png": "[encoded data removed]",
      "text/plain": [
       "<Figure size 432x288 with 1 Axes>"
      ]
     },
     "metadata": {
      "needs_background": "light"
     },
     "output_type": "display_data"
    }
   ],
   "source": [
    "from sklearn.neighbors import KNeighborsRegressor\n",
    "import numpy as np\n",
    "\n",
    "# KNN 회귀 객체를 만든다.\n",
    "knr = KNeighborsRegressor()\n",
    "\n",
    "# 5에서 44까지 x 좌표를 만든다.\n",
    "x = np.arange(5, 45).reshape(-1, 1)\n",
    "\n",
    "# n = 1, 5, 10 일 때 예측 결과를 그래프로 그린다.\n",
    "for n in [1, 5, 10]:\n",
    "    # 모델을 훈련한다.\n",
    "    knr.n_neighbors = n\n",
    "    knr.fit(train_input, train_target)\n",
    "    # 지정한 범위 x 에 대한 예측을 구한다.\n",
    "    prediction = knr.predict(x)\n",
    "\n",
    "    # 훈련 셋과 예측 결과를 그래프로 그린다.\n",
    "    plt.scatter(train_input, train_target)\n",
    "    plt.plot(x, prediction)\n",
    "    plt.show()"
   ]
  },
  {
   "cell_type": "code",
   "execution_count": null,
   "id": "b4e13dff",
   "metadata": {},
   "outputs": [],
   "source": []
  }
 ],
 "metadata": {
  "kernelspec": {
   "display_name": "Python 3",
   "language": "python",
   "name": "python3"
  },
  "language_info": {
   "codemirror_mode": {
    "name": "ipython",
    "version": 3
   },
   "file_extension": ".py",
   "mimetype": "text/x-python",
   "name": "python",
   "nbconvert_exporter": "python",
   "pygments_lexer": "ipython3",
   "version": "3.7.10"
  }
 },
 "nbformat": 4,
 "nbformat_minor": 5
}

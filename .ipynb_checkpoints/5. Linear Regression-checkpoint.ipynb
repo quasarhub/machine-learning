{
 "cells": [
  {
   "cell_type": "markdown",
   "id": "266fa4f4",
   "metadata": {},
   "source": [
    "# Linear Regression"
   ]
  },
  {
   "cell_type": "markdown",
   "id": "66ce664f",
   "metadata": {},
   "source": [
    "## KNN의 한계"
   ]
  },
  {
   "cell_type": "code",
   "execution_count": 2,
   "id": "c9f4d361",
   "metadata": {},
   "outputs": [],
   "source": [
    "import numpy as np\n",
    "\n",
    "perch_length = np.array([8.4, 13.7, 15.0, 16.2, 17.4, 18.0, 18.7, 19.0, 19.6, 20.0, 21.0,\n",
    "       21.0, 21.0, 21.3, 22.0, 22.0, 22.0, 22.0, 22.0, 22.5, 22.5, 22.7,\n",
    "       23.0, 23.5, 24.0, 24.0, 24.6, 25.0, 25.6, 26.5, 27.3, 27.5, 27.5,\n",
    "       27.5, 28.0, 28.7, 30.0, 32.8, 34.5, 35.0, 36.5, 36.0, 37.0, 37.0,\n",
    "       39.0, 39.0, 39.0, 40.0, 40.0, 40.0, 40.0, 42.0, 43.0, 43.0, 43.5,\n",
    "       44.0])\n",
    "\n",
    "perch_weight = np.array([5.9, 32.0, 40.0, 51.5, 70.0, 100.0, 78.0, 80.0, 85.0, 85.0, 110.0,\n",
    "       115.0, 125.0, 130.0, 120.0, 120.0, 130.0, 135.0, 110.0, 130.0,\n",
    "       150.0, 145.0, 150.0, 170.0, 225.0, 145.0, 188.0, 180.0, 197.0,\n",
    "       218.0, 300.0, 260.0, 265.0, 250.0, 250.0, 300.0, 320.0, 514.0,\n",
    "       556.0, 840.0, 685.0, 700.0, 700.0, 690.0, 900.0, 650.0, 820.0,\n",
    "       850.0, 900.0, 1015.0, 820.0, 1100.0, 1000.0, 1100.0, 1000.0,\n",
    "       1000.0])"
   ]
  },
  {
   "cell_type": "code",
   "execution_count": 3,
   "id": "ffb4b36c",
   "metadata": {},
   "outputs": [],
   "source": [
    "from sklearn.model_selection import train_test_split\n",
    "\n",
    "# 훈련 셋과 테스트 셋으로 나눈다.\n",
    "train_input, test_input, train_target, test_target = train_test_split(perch_length, perch_weight, random_state=42)\n",
    "\n",
    "# 훈련 셋과 테스트 셋을 2차원 배열로 바꾼다.\n",
    "train_input = train_input.reshape(-1, 1)\n",
    "test_input = test_input.reshape(-1, 1)"
   ]
  },
  {
   "cell_type": "code",
   "execution_count": 4,
   "id": "fb89472c",
   "metadata": {},
   "outputs": [
    {
     "name": "stdout",
     "output_type": "stream",
     "text": [
      "[1033.33333333]\n"
     ]
    }
   ],
   "source": [
    "# KNN 개수를 3으로 하는 모델을 훈련\n",
    "from sklearn.neighbors import KNeighborsRegressor\n",
    "\n",
    "knr = KNeighborsRegressor(n_neighbors=3)\n",
    "\n",
    "# KNN 회귀 모델 훈련\n",
    "knr.fit(train_input, train_target)\n",
    "\n",
    "# 길이가 50cm인 농어의 무게를 예측\n",
    "print(knr.predict([[50]]))"
   ]
  },
  {
   "cell_type": "markdown",
   "id": "6cd5270c",
   "metadata": {},
   "source": [
    "실제 50cm인 농어의 무게는 1.033g 이 아니라 훨씬 더 많이 나가는데 어디서 문제가 생긴 것일까? 일단 훈련 셋과 50cm 농어 그리고 이 농어의 KNN을 Scatter Plot에 표시하자."
   ]
  },
  {
   "cell_type": "code",
   "execution_count": 5,
   "id": "bc0cfefe",
   "metadata": {},
   "outputs": [
    {
     "data": {
      "image/png": "[encoded data removed]",
      "text/plain": [
       "<Figure size 432x288 with 1 Axes>"
      ]
     },
     "metadata": {
      "needs_background": "light"
     },
     "output_type": "display_data"
    }
   ],
   "source": [
    "import matplotlib.pyplot as plt\n",
    "\n",
    "# 50cm 농어의 이웃을 구한다.\n",
    "distances, indices = knr.kneighbors([[50]])\n",
    "\n",
    "# 훈련 셋의 산점도를 그린다.\n",
    "plt.scatter(train_input, train_target)\n",
    "\n",
    "# 훈련 셋 중에서 이웃 샘플만 다시 그린다.\n",
    "plt.scatter(train_input[indices], train_target[indices], marker='D')\n",
    "\n",
    "# 50cm 농어 데이터\n",
    "plt.scatter(50, 1033, marker='^')\n",
    "plt.show()"
   ]
  },
  {
   "cell_type": "markdown",
   "id": "87213a8d",
   "metadata": {},
   "source": [
    "그래프를 보면 결국 KNN 알고리즘은 가장 가까운 샘플들의 무게의 평균을 구한다. 따라서 결국 50cm 농어가 무게가 아무리 많이 나가더라도 가장 가까운 샘플들의 무게의 평균을 구하는 것과 같은 원리이다."
   ]
  },
  {
   "cell_type": "code",
   "execution_count": 6,
   "id": "dd072b80",
   "metadata": {},
   "outputs": [
    {
     "name": "stdout",
     "output_type": "stream",
     "text": [
      "1033.3333333333333\n"
     ]
    }
   ],
   "source": [
    "# 이웃 샘플들의 타깃의 평균\n",
    "print(np.mean(train_target[indices]))"
   ]
  },
  {
   "cell_type": "markdown",
   "id": "fc847357",
   "metadata": {},
   "source": [
    "결과가 같다. 따라서 새로운 샘플이 훈련 셋의 범위를 벗어나면 엉뚱한 값을 예측할 수 있다."
   ]
  },
  {
   "cell_type": "code",
   "execution_count": 7,
   "id": "3f2fa0e4",
   "metadata": {},
   "outputs": [
    {
     "data": {
      "image/png": "[encoded data removed]",
      "text/plain": [
       "<Figure size 432x288 with 1 Axes>"
      ]
     },
     "metadata": {
      "needs_background": "light"
     },
     "output_type": "display_data"
    }
   ],
   "source": [
    "# 100cm 농어의 무게를 예측해보면,\n",
    "\n",
    "# 100cm 농어의 이웃을 구한다.\n",
    "distances, indices = knr.kneighbors([[100]])\n",
    "\n",
    "# 훈련 셋의 산점도를 그린다.\n",
    "plt.scatter(train_input, train_target)\n",
    "\n",
    "# 훈련 셋 중에서 이웃 샘플만 다시 그린다.\n",
    "plt.scatter(train_input[indices], train_target[indices], marker='D')\n",
    "\n",
    "# 100cm 농어 데이터\n",
    "plt.scatter(100, 1033, marker='^')\n",
    "plt.show()"
   ]
  },
  {
   "cell_type": "markdown",
   "id": "5f0605e6",
   "metadata": {},
   "source": [
    "이런 식이면 농어가 아무리 커도 무게가 더 늘어나지 않을 것이다. KNN을 사용해 이 문제를 해결하려면 가장 큰 농어가 포함되도록 훈련 셋을 다시 만들어야 한다. 하지만 더 나은 방법이 없을까?"
   ]
  },
  {
   "cell_type": "markdown",
   "id": "c071b4e3",
   "metadata": {},
   "source": [
    "## 선형 회귀(Linear Regression)"
   ]
  },
  {
   "cell_type": "code",
   "execution_count": 8,
   "id": "eaa4b4f8",
   "metadata": {},
   "outputs": [
    {
     "name": "stdout",
     "output_type": "stream",
     "text": [
      "[1241.83860323]\n"
     ]
    }
   ],
   "source": [
    "from sklearn.linear_model import LinearRegression\n",
    "\n",
    "lr = LinearRegression()\n",
    "\n",
    "# 선형 회귀 모델을 훈련\n",
    "lr.fit(train_input, train_target)\n",
    "\n",
    "# 50cm 농어에 대해 예측\n",
    "print(lr.predict([[50]]))"
   ]
  },
  {
   "cell_type": "markdown",
   "id": "7146e817",
   "metadata": {},
   "source": [
    "KNN 회귀를 사용했을 때와 달리 선형 회귀는 50cm 농어의 무게를 아주 높게 예측했다."
   ]
  },
  {
   "cell_type": "markdown",
   "id": "d23911d6",
   "metadata": {},
   "source": [
    "$y = ax + b$ 에서 a 와 b 는 `lr` 객체의 `coef_` 와 `intercept_` 속성에 저장되어 있다. 머신러닝에서는 기울기를 종종 계수(coefficient) 또는 가중치(weight) 라고 부른다."
   ]
  },
  {
   "cell_type": "markdown",
   "id": "72861ad1",
   "metadata": {},
   "source": [
    "농어의 길이 15cm 에서 50cm 까지 직선으로 그려 보자."
   ]
  },
  {
   "cell_type": "code",
   "execution_count": 9,
   "id": "c8a45d9e",
   "metadata": {},
   "outputs": [
    {
     "data": {
      "image/png": "[encoded data removed]",
      "text/plain": [
       "<Figure size 432x288 with 1 Axes>"
      ]
     },
     "metadata": {
      "needs_background": "light"
     },
     "output_type": "display_data"
    }
   ],
   "source": [
    "# 훈련 셋의 산점도를 그린다.\n",
    "plt.scatter(train_input, train_target)\n",
    "\n",
    "# 15cm에서 50cm까지 1차 방정식 그래프를 그린다.\n",
    "plt.plot([15, 50], [15*lr.coef_ + lr.intercept_, 50*lr.coef_ + lr.intercept_])\n",
    "\n",
    "# 50cm 농어 데이터\n",
    "plt.scatter(50, 1241.8, marker='^')\n",
    "plt.show()"
   ]
  },
  {
   "cell_type": "markdown",
   "id": "4632925b",
   "metadata": {},
   "source": [
    "위의 그래프의 직선이 바로 선형 회귀 일고리즘이 이 데이터 셋에서 찾은 최적의 직선이다. 길이가 50cm인 농어데 대한 예측은 이 직선의 연장선에 있다. \n",
    "\n",
    "그럼 이제 훈련 셋 범위를 벗어난 무게도 예측할 수 있을 것이다. 일단 훈련 셋과 테스트 셋에 대한 $R^2$ 점수를 확인해 보자."
   ]
  },
  {
   "cell_type": "code",
   "execution_count": 10,
   "id": "c78d0dbe",
   "metadata": {},
   "outputs": [
    {
     "name": "stdout",
     "output_type": "stream",
     "text": [
      "Training Score: 0.939846333997604\n",
      "Test Score: 0.8247503123313558\n"
     ]
    }
   ],
   "source": [
    "print(f'Training Score: {lr.score(train_input, train_target)}')\n",
    "print(f'Test Score: {lr.score(test_input, test_target)}')"
   ]
  },
  {
   "cell_type": "markdown",
   "id": "22726bff",
   "metadata": {},
   "source": [
    "훈련 셋의 점수가 테스트 셋의 점수보다 높은데 과대적합되었다고 말할 수 있을까? 사실 훈련 셋의 점수도 높지 않다. \n",
    "\n",
    "**오히려 전체적으로 과소적합되었다고 볼 수 있다.** 하지만 과소적합 말고도 다른 문제가 또 있다. \n",
    "\n",
    "> 그래프 왼쪽 아래를 보면 좀 이상하지 않는가?"
   ]
  },
  {
   "cell_type": "markdown",
   "id": "3793d36d",
   "metadata": {},
   "source": [
    "## 다항 회귀(Polynomial Regression)"
   ]
  },
  {
   "cell_type": "markdown",
   "id": "619682e7",
   "metadata": {},
   "source": [
    "그렇다면 위의 문제를 해결하기 위해 최적의 직선을 찾기보다 최적의 곡선을 찾으면 어떨까?"
   ]
  },
  {
   "cell_type": "markdown",
   "id": "3425d11d",
   "metadata": {},
   "source": [
    "$$\n",
    "\\text{weight} = a \\times \\text{length}^2 + b \\times \\text{length} + c\n",
    "$$"
   ]
  },
  {
   "cell_type": "markdown",
   "id": "3e9a70b7",
   "metadata": {},
   "source": [
    "위와 같은 이차 방정식의 그래프를 그리려면 길이를 제곱한 항이 훈련 셋에 추가되어야 한다."
   ]
  },
  {
   "cell_type": "code",
   "execution_count": 11,
   "id": "0a71bb93",
   "metadata": {},
   "outputs": [],
   "source": [
    "train_poly = np.column_stack((train_input ** 2, train_input))\n",
    "test_poly = np.column_stack((test_input ** 2, test_input))"
   ]
  },
  {
   "cell_type": "markdown",
   "id": "20562577",
   "metadata": {},
   "source": [
    "이제 `train_poly`를 사용해 선형 회귀 모델을 다시 훈련해 보자. 여기서 주막할 점은 2차 방정식 그래프를 찾기 위해 훈련 셋에 제곱 항을 추가했지만, 타깃값은 그대로 사용한다는 것이다.\n",
    "\n",
    "> 목표하는 값은 어떤 그래프를 훈련하든지 바꿀 필요가 없다."
   ]
  },
  {
   "cell_type": "code",
   "execution_count": 13,
   "id": "b4d9442e",
   "metadata": {},
   "outputs": [
    {
     "name": "stdout",
     "output_type": "stream",
     "text": [
      "[1573.98423528]\n"
     ]
    }
   ],
   "source": [
    "lr.fit(train_poly, train_target)\n",
    "print(lr.predict([[50**2, 50]]))"
   ]
  },
  {
   "cell_type": "markdown",
   "id": "24932706",
   "metadata": {},
   "source": [
    "전에 훈련한 모델보다 더 높은 값을 예측했다. 이 모델의 훈련 계수와 절편을 출력해 보면,"
   ]
  },
  {
   "cell_type": "code",
   "execution_count": 14,
   "id": "082ff350",
   "metadata": {},
   "outputs": [
    {
     "name": "stdout",
     "output_type": "stream",
     "text": [
      "[  1.01433211 -21.55792498] 116.0502107827827\n"
     ]
    }
   ],
   "source": [
    "print(lr.coef_, lr.intercept_)"
   ]
  },
  {
   "cell_type": "markdown",
   "id": "6e931ad4",
   "metadata": {},
   "source": [
    "이 모델은 아래와 같은 수식을 학습했다.\n",
    "\n",
    "$$\n",
    "\\text{weight} = 1.01 \\times \\text{length}^2 - 21.6 \\times \\text{length} + 116.05\n",
    "$$"
   ]
  },
  {
   "cell_type": "markdown",
   "id": "b4788acb",
   "metadata": {},
   "source": [
    "이런 방정식을 다항식(polynomial)이라 부르며 다항식을 사용한 선형 회귀를 **다항 회귀(Polynomial Regression)** 라고 부른다."
   ]
  },
  {
   "cell_type": "markdown",
   "id": "55a4817f",
   "metadata": {},
   "source": [
    "그럼 이 2차 방정식의 계수와 절편 a, b, c 를 알았으니 이전과 동일하게 훈련 셋의 산점도에 그래프로 그려 보자. \n",
    "\n",
    "짧은 직선을 이어서 그리면 마치 곡선처럼 표현할 수 있다. 여기서는 1씩 짧게 끊어서 그려 보겠다."
   ]
  },
  {
   "cell_type": "code",
   "execution_count": 16,
   "id": "0fd91d2b",
   "metadata": {},
   "outputs": [
    {
     "data": {
      "image/png": "[encoded data removed]",
      "text/plain": [
       "<Figure size 432x288 with 1 Axes>"
      ]
     },
     "metadata": {
      "needs_background": "light"
     },
     "output_type": "display_data"
    }
   ],
   "source": [
    "# 구간별 직선을 그리기 위해 15cm 에서 49cm 까지 정수 배열을 만든다.\n",
    "point = np.arange(15, 50)\n",
    "\n",
    "# 훈련 셋의 산점도를 그린다.\n",
    "plt.scatter(train_input, train_target)\n",
    "\n",
    "# 15 에서 49까지 2차 방정식 그래프를 그린다.\n",
    "plt.plot(point, 1.01*point**2 - 21.6*point + 116.05)\n",
    "\n",
    "# 50cm 농어 데이터\n",
    "plt.scatter([50], [1574], marker='^')\n",
    "plt.show()"
   ]
  },
  {
   "cell_type": "markdown",
   "id": "605f3c26",
   "metadata": {},
   "source": [
    "앞서 단순 선형 회귀 모델보다 훨씬 나은 그래프가 그려졌다. 훈련 셋의 경향을 잘 따르고 있고 무게가 음수로 나오는 일도 없을 것이다. \n",
    "\n",
    "그럼 훈련 셋과 테스트 셋의 $R^2$ 점수를 평가하겠다."
   ]
  },
  {
   "cell_type": "code",
   "execution_count": 17,
   "id": "1576e03c",
   "metadata": {},
   "outputs": [
    {
     "name": "stdout",
     "output_type": "stream",
     "text": [
      "0.9706807451768623\n",
      "0.9775935108325122\n"
     ]
    }
   ],
   "source": [
    "print(lr.score(train_poly, train_target))\n",
    "print(lr.score(test_poly, test_target))"
   ]
  },
  {
   "cell_type": "markdown",
   "id": "8b8e1fcb",
   "metadata": {},
   "source": [
    "훈련 셋과 테스트 셋에 대한 점수가 크게 높아졌다. 하지만 여전히 테스트 셋의 점수가 조금 더 높다. 과소적합이 아직 남아 있는 것 같다. \n",
    "> 그럼 조금 더 복잡한 모델이 필요할 것이다."
   ]
  },
  {
   "cell_type": "code",
   "execution_count": null,
   "id": "5d63b12f",
   "metadata": {},
   "outputs": [],
   "source": []
  }
 ],
 "metadata": {
  "kernelspec": {
   "display_name": "Python 3",
   "language": "python",
   "name": "python3"
  },
  "language_info": {
   "codemirror_mode": {
    "name": "ipython",
    "version": 3
   },
   "file_extension": ".py",
   "mimetype": "text/x-python",
   "name": "python",
   "nbconvert_exporter": "python",
   "pygments_lexer": "ipython3",
   "version": "3.7.10"
  }
 },
 "nbformat": 4,
 "nbformat_minor": 5
}

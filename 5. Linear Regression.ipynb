{
 "cells": [
  {
   "cell_type": "markdown",
   "id": "266fa4f4",
   "metadata": {},
   "source": [
    "# Linear Regression"
   ]
  },
  {
   "cell_type": "markdown",
   "id": "66ce664f",
   "metadata": {},
   "source": [
    "## KNN의 한계"
   ]
  },
  {
   "cell_type": "code",
   "execution_count": 1,
   "id": "c9f4d361",
   "metadata": {},
   "outputs": [],
   "source": [
    "import numpy as np\n",
    "\n",
    "perch_length = np.array([8.4, 13.7, 15.0, 16.2, 17.4, 18.0, 18.7, 19.0, 19.6, 20.0, 21.0,\n",
    "       21.0, 21.0, 21.3, 22.0, 22.0, 22.0, 22.0, 22.0, 22.5, 22.5, 22.7,\n",
    "       23.0, 23.5, 24.0, 24.0, 24.6, 25.0, 25.6, 26.5, 27.3, 27.5, 27.5,\n",
    "       27.5, 28.0, 28.7, 30.0, 32.8, 34.5, 35.0, 36.5, 36.0, 37.0, 37.0,\n",
    "       39.0, 39.0, 39.0, 40.0, 40.0, 40.0, 40.0, 42.0, 43.0, 43.0, 43.5,\n",
    "       44.0])\n",
    "\n",
    "perch_weight = np.array([5.9, 32.0, 40.0, 51.5, 70.0, 100.0, 78.0, 80.0, 85.0, 85.0, 110.0,\n",
    "       115.0, 125.0, 130.0, 120.0, 120.0, 130.0, 135.0, 110.0, 130.0,\n",
    "       150.0, 145.0, 150.0, 170.0, 225.0, 145.0, 188.0, 180.0, 197.0,\n",
    "       218.0, 300.0, 260.0, 265.0, 250.0, 250.0, 300.0, 320.0, 514.0,\n",
    "       556.0, 840.0, 685.0, 700.0, 700.0, 690.0, 900.0, 650.0, 820.0,\n",
    "       850.0, 900.0, 1015.0, 820.0, 1100.0, 1000.0, 1100.0, 1000.0,\n",
    "       1000.0])"
   ]
  },
  {
   "cell_type": "code",
   "execution_count": 2,
   "id": "ffb4b36c",
   "metadata": {},
   "outputs": [],
   "source": [
    "from sklearn.model_selection import train_test_split\n",
    "\n",
    "# 훈련 셋과 테스트 셋으로 나눈다.\n",
    "train_input, test_input, train_target, test_target = train_test_split(perch_length, perch_weight, random_state=42)\n",
    "\n",
    "# 훈련 셋과 테스트 셋을 2차원 배열로 바꾼다.\n",
    "train_input = train_input.reshape(-1, 1)\n",
    "test_input = test_input.reshape(-1, 1)"
   ]
  },
  {
   "cell_type": "code",
   "execution_count": 3,
   "id": "fb89472c",
   "metadata": {},
   "outputs": [
    {
     "name": "stdout",
     "output_type": "stream",
     "text": [
      "[1033.33333333]\n"
     ]
    }
   ],
   "source": [
    "# KNN 개수를 3으로 하는 모델을 훈련\n",
    "from sklearn.neighbors import KNeighborsRegressor\n",
    "\n",
    "knr = KNeighborsRegressor(n_neighbors=3)\n",
    "\n",
    "# KNN 회귀 모델 훈련\n",
    "knr.fit(train_input, train_target)\n",
    "\n",
    "# 길이가 50cm인 농어의 무게를 예측\n",
    "print(knr.predict([[50]]))"
   ]
  },
  {
   "cell_type": "markdown",
   "id": "6cd5270c",
   "metadata": {},
   "source": [
    "실제 50cm인 농어의 무게는 1.033g 이 아니라 훨씬 더 많이 나가는데 어디서 문제가 생긴 것일까? 일단 훈련 셋과 50cm 농어 그리고 이 농어의 KNN을 Scatter Plot에 표시하자."
   ]
  },
  {
   "cell_type": "code",
   "execution_count": 4,
   "id": "bc0cfefe",
   "metadata": {},
   "outputs": [
    {
     "data": {
      "image/png": "[encoded data removed]",
      "text/plain": [
       "<Figure size 432x288 with 1 Axes>"
      ]
     },
     "metadata": {
      "needs_background": "light"
     },
     "output_type": "display_data"
    }
   ],
   "source": [
    "import matplotlib.pyplot as plt\n",
    "\n",
    "# 50cm 농어의 이웃을 구한다.\n",
    "distances, indices = knr.kneighbors([[50]])\n",
    "\n",
    "# 훈련 셋의 산점도를 그린다.\n",
    "plt.scatter(train_input, train_target)\n",
    "\n",
    "# 훈련 셋 중에서 이웃 샘플만 다시 그린다.\n",
    "plt.scatter(train_input[indices], train_target[indices], marker='D')\n",
    "\n",
    "# 50cm 농어 데이터\n",
    "plt.scatter(50, 1033, marker='^')\n",
    "plt.show()"
   ]
  },
  {
   "cell_type": "markdown",
   "id": "87213a8d",
   "metadata": {},
   "source": [
    "그래프를 보면 결국 KNN 알고리즘은 가장 가까운 샘플들의 무게의 평균을 구한다. 따라서 결국 50cm 농어가 무게가 아무리 많이 나가더라도 가장 가까운 샘플들의 무게의 평균을 구하는 것과 같은 원리이다."
   ]
  },
  {
   "cell_type": "code",
   "execution_count": 5,
   "id": "dd072b80",
   "metadata": {},
   "outputs": [
    {
     "name": "stdout",
     "output_type": "stream",
     "text": [
      "1033.3333333333333\n"
     ]
    }
   ],
   "source": [
    "# 이웃 샘플들의 타깃의 평균\n",
    "print(np.mean(train_target[indices]))"
   ]
  },
  {
   "cell_type": "markdown",
   "id": "fc847357",
   "metadata": {},
   "source": [
    "결과가 같다. 따라서 새로운 샘플이 훈련 셋의 범위를 벗어나면 엉뚱한 값을 예측할 수 있다."
   ]
  },
  {
   "cell_type": "code",
   "execution_count": 6,
   "id": "3f2fa0e4",
   "metadata": {},
   "outputs": [
    {
     "data": {
      "image/png": "[encoded data removed]",
      "text/plain": [
       "<Figure size 432x288 with 1 Axes>"
      ]
     },
     "metadata": {
      "needs_background": "light"
     },
     "output_type": "display_data"
    }
   ],
   "source": [
    "# 100cm 농어의 무게를 예측해보면,\n",
    "\n",
    "# 100cm 농어의 이웃을 구한다.\n",
    "distances, indices = knr.kneighbors([[100]])\n",
    "\n",
    "# 훈련 셋의 산점도를 그린다.\n",
    "plt.scatter(train_input, train_target)\n",
    "\n",
    "# 훈련 셋 중에서 이웃 샘플만 다시 그린다.\n",
    "plt.scatter(train_input[indices], train_target[indices], marker='D')\n",
    "\n",
    "# 100cm 농어 데이터\n",
    "plt.scatter(100, 1033, marker='^')\n",
    "plt.show()"
   ]
  },
  {
   "cell_type": "markdown",
   "id": "5f0605e6",
   "metadata": {},
   "source": [
    "이런 식이면 농어가 아무리 커도 무게가 더 늘어나지 않을 것이다. KNN을 사용해 이 문제를 해결하려면 가장 큰 농어가 포함되도록 훈련 셋을 다시 만들어야 한다. 하지만 더 나은 방법이 없을까?"
   ]
  },
  {
   "cell_type": "markdown",
   "id": "c071b4e3",
   "metadata": {},
   "source": [
    "## 선형 회귀(Linear Regression)"
   ]
  },
  {
   "cell_type": "code",
   "execution_count": 7,
   "id": "eaa4b4f8",
   "metadata": {},
   "outputs": [
    {
     "name": "stdout",
     "output_type": "stream",
     "text": [
      "[1241.83860323]\n"
     ]
    }
   ],
   "source": [
    "from sklearn.linear_model import LinearRegression\n",
    "\n",
    "lr = LinearRegression()\n",
    "\n",
    "# 선형 회귀 모델을 훈련\n",
    "lr.fit(train_input, train_target)\n",
    "\n",
    "# 50cm 농어에 대해 예측\n",
    "print(lr.predict([[50]]))"
   ]
  },
  {
   "cell_type": "markdown",
   "id": "7146e817",
   "metadata": {},
   "source": [
    "KNN 회귀를 사용했을 때와 달리 선형 회귀는 50cm 농어의 무게를 아주 높게 예측했다."
   ]
  },
  {
   "cell_type": "markdown",
   "id": "d23911d6",
   "metadata": {},
   "source": [
    "$y = ax + b$ 에서 a 와 b 는 `lr` 객체의 `coef_` 와 `intercept_` 속성에 저장되어 있다. 머신러닝에서는 기울기를 종종 계수(coefficient) 또는 가중치(weight) 라고 부른다."
   ]
  },
  {
   "cell_type": "markdown",
   "id": "72861ad1",
   "metadata": {},
   "source": [
    "농어의 길이 15cm 에서 50cm 까지 직선으로 그려 보자."
   ]
  },
  {
   "cell_type": "code",
   "execution_count": 8,
   "id": "c8a45d9e",
   "metadata": {},
   "outputs": [
    {
     "data": {
      "image/png": "[encoded data removed]",
      "text/plain": [
       "<Figure size 432x288 with 1 Axes>"
      ]
     },
     "metadata": {
      "needs_background": "light"
     },
     "output_type": "display_data"
    }
   ],
   "source": [
    "# 훈련 셋의 산점도를 그린다.\n",
    "plt.scatter(train_input, train_target)\n",
    "\n",
    "# 15cm에서 50cm까지 1차 방정식 그래프를 그린다.\n",
    "plt.plot([15, 50], [15*lr.coef_ + lr.intercept_, 50*lr.coef_ + lr.intercept_])\n",
    "\n",
    "# 50cm 농어 데이터\n",
    "plt.scatter(50, 1241.8, marker='^')\n",
    "plt.show()"
   ]
  },
  {
   "cell_type": "markdown",
   "id": "4632925b",
   "metadata": {},
   "source": [
    "위의 그래프의 직선이 바로 선형 회귀 일고리즘이 이 데이터 셋에서 찾은 최적의 직선이다. 길이가 50cm인 농어데 대한 예측은 이 직선의 연장선에 있다. \n",
    "\n",
    "그럼 이제 훈련 셋 범위를 벗어난 무게도 예측할 수 있을 것이다. 일단 훈련 셋과 테스트 셋에 대한 $R^2$ 점수를 확인해 보자."
   ]
  },
  {
   "cell_type": "code",
   "execution_count": 9,
   "id": "c78d0dbe",
   "metadata": {},
   "outputs": [
    {
     "name": "stdout",
     "output_type": "stream",
     "text": [
      "Training Score: 0.939846333997604\n",
      "Test Score: 0.8247503123313558\n"
     ]
    }
   ],
   "source": [
    "print(f'Training Score: {lr.score(train_input, train_target)}')\n",
    "print(f'Test Score: {lr.score(test_input, test_target)}')"
   ]
  },
  {
   "cell_type": "markdown",
   "id": "22726bff",
   "metadata": {},
   "source": [
    "훈련 셋의 점수가 테스트 셋의 점수보다 높은데 과대적합되었다고 말할 수 있을까? 사실 훈련 셋의 점수도 높지 않다. \n",
    "\n",
    "**오히려 전체적으로 과소적합되었다고 볼 수 있다.** 하지만 과소적합 말고도 다른 문제가 또 있다. \n",
    "\n",
    "> 그래프 왼쪽 아래를 보면 좀 이상하지 않는가?"
   ]
  },
  {
   "cell_type": "markdown",
   "id": "9140792f",
   "metadata": {},
   "source": [
    "## 다항 회귀(Polynomial Regression)"
   ]
  },
  {
   "cell_type": "markdown",
   "id": "b377f3cb",
   "metadata": {},
   "source": [
    "그렇다면 위의 문제를 해결하기 위해 최적의 직선을 찾기보다 최적의 곡선을 찾으면 어떨까?"
   ]
  },
  {
   "cell_type": "markdown",
   "id": "22daa941",
   "metadata": {},
   "source": [
    "$$\n",
    "\\text{weight} = a \\times \\text{length}^2 + b \\times \\text{length} + c\n",
    "$$"
   ]
  },
  {
   "cell_type": "markdown",
   "id": "247ea650",
   "metadata": {},
   "source": [
    "위와 같은 이차 방정식의 그래프를 그리려면 길이를 제곱한 항이 훈련 셋에 추가되어야 한다."
   ]
  },
  {
   "cell_type": "code",
   "execution_count": 10,
   "id": "0d0aa274",
   "metadata": {},
   "outputs": [],
   "source": [
    "train_poly = np.column_stack((train_input ** 2, train_input))\n",
    "test_poly = np.column_stack((test_input ** 2, test_input))"
   ]
  },
  {
   "cell_type": "markdown",
   "id": "806de297",
   "metadata": {},
   "source": [
    "이제 `train_poly`를 사용해 선형 회귀 모델을 다시 훈련해 보자. 여기서 주막할 점은 2차 방정식 그래프를 찾기 위해 훈련 셋에 제곱 항을 추가했지만, 타깃값은 그대로 사용한다는 것이다.\n",
    "\n",
    "> 목표하는 값은 어떤 그래프를 훈련하든지 바꿀 필요가 없다."
   ]
  },
  {
   "cell_type": "code",
   "execution_count": 11,
   "id": "916bb999",
   "metadata": {},
   "outputs": [
    {
     "name": "stdout",
     "output_type": "stream",
     "text": [
      "[1573.98423528]\n"
     ]
    }
   ],
   "source": [
    "lr.fit(train_poly, train_target)\n",
    "print(lr.predict([[50**2, 50]]))"
   ]
  },
  {
   "cell_type": "markdown",
   "id": "9cd876cc",
   "metadata": {},
   "source": [
    "전에 훈련한 모델보다 더 높은 값을 예측했다. 이 모델의 훈련 계수와 절편을 출력해 보면,"
   ]
  },
  {
   "cell_type": "code",
   "execution_count": 12,
   "id": "d2f9d869",
   "metadata": {},
   "outputs": [
    {
     "name": "stdout",
     "output_type": "stream",
     "text": [
      "[  1.01433211 -21.55792498] 116.0502107827827\n"
     ]
    }
   ],
   "source": [
    "print(lr.coef_, lr.intercept_)"
   ]
  },
  {
   "cell_type": "markdown",
   "id": "90f5bc5c",
   "metadata": {},
   "source": [
    "이 모델은 아래와 같은 수식을 학습했다.\n",
    "\n",
    "$$\n",
    "\\text{weight} = 1.01 \\times \\text{length}^2 - 21.6 \\times \\text{length} + 116.05\n",
    "$$"
   ]
  },
  {
   "cell_type": "markdown",
   "id": "87ccfbac",
   "metadata": {},
   "source": [
    "이런 방정식을 다항식(polynomial)이라 부르며 다항식을 사용한 선형 회귀를 **다항 회귀(Polynomial Regression)** 라고 부른다."
   ]
  },
  {
   "cell_type": "markdown",
   "id": "d2169346",
   "metadata": {},
   "source": [
    "그럼 이 2차 방정식의 계수와 절편 a, b, c 를 알았으니 이전과 동일하게 훈련 셋의 산점도에 그래프로 그려 보자. \n",
    "\n",
    "짧은 직선을 이어서 그리면 마치 곡선처럼 표현할 수 있다. 여기서는 1씩 짧게 끊어서 그려 보겠다."
   ]
  },
  {
   "cell_type": "code",
   "execution_count": 13,
   "id": "d2d8516d",
   "metadata": {},
   "outputs": [
    {
     "data": {
      "image/png": "[encoded data removed]",
      "text/plain": [
       "<Figure size 432x288 with 1 Axes>"
      ]
     },
     "metadata": {
      "needs_background": "light"
     },
     "output_type": "display_data"
    }
   ],
   "source": [
    "# 구간별 직선을 그리기 위해 15cm 에서 49cm 까지 정수 배열을 만든다.\n",
    "point = np.arange(15, 50)\n",
    "\n",
    "# 훈련 셋의 산점도를 그린다.\n",
    "plt.scatter(train_input, train_target)\n",
    "\n",
    "# 15 에서 49까지 2차 방정식 그래프를 그린다.\n",
    "plt.plot(point, 1.01*point**2 - 21.6*point + 116.05)\n",
    "\n",
    "# 50cm 농어 데이터\n",
    "plt.scatter([50], [1574], marker='^')\n",
    "plt.show()"
   ]
  },
  {
   "cell_type": "markdown",
   "id": "07474797",
   "metadata": {},
   "source": [
    "앞서 단순 선형 회귀 모델보다 훨씬 나은 그래프가 그려졌다. 훈련 셋의 경향을 잘 따르고 있고 무게가 음수로 나오는 일도 없을 것이다. \n",
    "\n",
    "그럼 훈련 셋과 테스트 셋의 $R^2$ 점수를 평가하겠다."
   ]
  },
  {
   "cell_type": "code",
   "execution_count": 14,
   "id": "90dd915e",
   "metadata": {},
   "outputs": [
    {
     "name": "stdout",
     "output_type": "stream",
     "text": [
      "0.9706807451768623\n",
      "0.9775935108325122\n"
     ]
    }
   ],
   "source": [
    "print(lr.score(train_poly, train_target))\n",
    "print(lr.score(test_poly, test_target))"
   ]
  },
  {
   "cell_type": "markdown",
   "id": "b56fafb2",
   "metadata": {},
   "source": [
    "훈련 셋과 테스트 셋에 대한 점수가 크게 높아졌다. 하지만 여전히 테스트 셋의 점수가 조금 더 높다. 과소적합이 아직 남아 있는 것 같다. \n",
    "> 그럼 조금 더 복잡한 모델이 필요할 것이다."
   ]
  },
  {
   "cell_type": "markdown",
   "id": "d6a9b801",
   "metadata": {},
   "source": [
    "## 다중 회귀(Multiple Regression)"
   ]
  },
  {
   "cell_type": "markdown",
   "id": "38915552",
   "metadata": {},
   "source": [
    "위에서는 길이 특성 하나만 사용했는데, 특성이 높이와 두께도 있다면, 이 모든 데이터를 이용하는 것이 좋을 것이다.\n",
    "\n",
    "이처럼 여러 개의 특성을 사용한 선형 회귀를 **다중 회귀**라고 한다. 그리고 기존의 특성을 사용해 새로운 특성을 뽑아내는 작업을 **특성 공학(Feature Engineering)** 이라고 부른다."
   ]
  },
  {
   "cell_type": "markdown",
   "id": "443cc759",
   "metadata": {},
   "source": [
    "### 데이터 준비"
   ]
  },
  {
   "cell_type": "code",
   "execution_count": 15,
   "id": "e8d02f19",
   "metadata": {},
   "outputs": [],
   "source": [
    "import pandas as pd\n",
    "import numpy as np\n",
    "from sklearn.model_selection import train_test_split\n",
    "\n",
    "# 데이터프레임을 만듦\n",
    "df = pd.read_csv('https://bit.ly/perch_csv')\n",
    "# 만든 데이터프레임을 넘파이 배열로 바꾼다.\n",
    "perch_full = df.to_numpy()\n",
    "\n",
    "# 타깃 데이터는 동일함\n",
    "perch_weight = np.array([5.9, 32.0, 40.0, 51.5, 70.0, 100.0, 78.0, 80.0, 85.0, 85.0, 110.0, 115.0, 125.0, 130.0, 120.0, 120.0, 130.0, 135.0, 110.0, 130.0, 150.0, 145.0, 150.0, 170.0, 225.0, 145.0, 188.0, 180.0, 197.0, 218.0, 300.0, 260.0, 265.0, 250.0, 250.0, 300.0, 320.0, 514.0, 556.0, 840.0, 685.0, 700.0, 700.0, 690.0, 900.0, 650.0, 820.0, 850.0, 900.0, 1015.0, 820.0, 1100.0, 1000.0, 1100.0, 1000.0, 1000.0])\n",
    "\n",
    "\n",
    "# 훈련 셋과 테스트 셋으로 나눈다.\n",
    "train_input, test_input, train_target, test_target = train_test_split(perch_full, perch_weight, random_state=42)"
   ]
  },
  {
   "cell_type": "markdown",
   "id": "b3c4439b",
   "metadata": {},
   "source": [
    "### 변환기(Transformer)"
   ]
  },
  {
   "cell_type": "markdown",
   "id": "d9531839",
   "metadata": {},
   "source": [
    "사이킷런은 특성을 만들거나 전처리하기 위한 다양한 클래스를 제공한다."
   ]
  },
  {
   "cell_type": "code",
   "execution_count": 16,
   "id": "8fa8bcfc",
   "metadata": {},
   "outputs": [],
   "source": [
    "from sklearn.preprocessing import PolynomialFeatures\n",
    "\n",
    "poly = PolynomialFeatures(include_bias=False)\n",
    "\n",
    "poly.fit(train_input)\n",
    "train_poly = poly.transform(train_input)\n",
    "test_poly = poly.transform(test_input)"
   ]
  },
  {
   "cell_type": "markdown",
   "id": "715d3cd9",
   "metadata": {},
   "source": [
    "### 다중 회귀 모델 훈련하기"
   ]
  },
  {
   "cell_type": "markdown",
   "id": "131cf132",
   "metadata": {},
   "source": [
    "다중 회귀 모델을 훈련하는 것은 선형 회귀 모델을 훈련하는 것과 같다. 다만 여러 개의 특성을 사용하여 선형 회귀를 수행하는 것뿐이다. "
   ]
  },
  {
   "cell_type": "code",
   "execution_count": 17,
   "id": "a9286cce",
   "metadata": {},
   "outputs": [
    {
     "name": "stdout",
     "output_type": "stream",
     "text": [
      "0.9903183436982124\n",
      "0.9714559911594134\n"
     ]
    }
   ],
   "source": [
    "from sklearn.linear_model import LinearRegression\n",
    "\n",
    "lr = LinearRegression()\n",
    "lr.fit(train_poly, train_target)\n",
    "\n",
    "print(lr.score(train_poly, train_target))\n",
    "print(lr.score(test_poly, test_target))"
   ]
  },
  {
   "cell_type": "markdown",
   "id": "2ce38a68",
   "metadata": {},
   "source": [
    "아주 높은 점수가 나왔다. 농어의 길이뿐만 아니라 높이와 두께를 모두 사용했고 각 특성을 제곱하거나 서로 곱해서 다항 특성을 더 추가했다. \n",
    "\n",
    "**특성이 늘어나면 선형 회귀의 능력은 매우 강하다는 것을 알 수 있다.**\n",
    "\n",
    "> 특성을 더 많이 추가하면 어떨까? 3제곱, 4제곱 또는 5제곱 항을 넣는 것이다."
   ]
  },
  {
   "cell_type": "code",
   "execution_count": 18,
   "id": "08728da6",
   "metadata": {},
   "outputs": [
    {
     "name": "stdout",
     "output_type": "stream",
     "text": [
      "(42, 55)\n"
     ]
    }
   ],
   "source": [
    "poly = PolynomialFeatures(degree=5, include_bias=False)\n",
    "\n",
    "poly.fit(train_input)\n",
    "train_poly = poly.transform(train_input)\n",
    "test_poly = poly.transform(test_input)\n",
    "\n",
    "print(train_poly.shape)"
   ]
  },
  {
   "cell_type": "markdown",
   "id": "22dd91af",
   "metadata": {},
   "source": [
    "만들어진 특성의 개수가 무려 55개나 된다. 이 데이터를 사용해 선형 회귀 모델을 다시 훈련시켜 보자."
   ]
  },
  {
   "cell_type": "code",
   "execution_count": 19,
   "id": "de27ea29",
   "metadata": {},
   "outputs": [
    {
     "name": "stdout",
     "output_type": "stream",
     "text": [
      "0.9999999999991097\n",
      "-144.40579242684848\n"
     ]
    }
   ],
   "source": [
    "lr.fit(train_poly, train_target)\n",
    "\n",
    "print(lr.score(train_poly, train_target))\n",
    "print(lr.score(test_poly, test_target))"
   ]
  },
  {
   "cell_type": "markdown",
   "id": "1959734b",
   "metadata": {},
   "source": [
    "특성의 개수를 크게 늘리면 선형 모델은 아주 강력해진다. 훈련 셋에 대해 거의 완벽하게 학습할 수 있다. 하지만 이런 모델은 훈련 셋에 너무 과대적합되므로 테스트 셋에서는 형편없는 점수를 만든다.\n",
    "\n",
    "> 이런 경우 어떻게 문제를 해결할 수 있을까?"
   ]
  },
  {
   "cell_type": "markdown",
   "id": "67953348",
   "metadata": {},
   "source": [
    "## 규제(Regularization)"
   ]
  },
  {
   "cell_type": "markdown",
   "id": "e12ed25e",
   "metadata": {},
   "source": [
    "규제는 머신러닝 모델이 훈련 셋을 너무 과도하게 학습하지 못하도록 훼방하는 것을 말한다. \n",
    "\n",
    "즉 모델이 훈련 셋에 과대적합 되지 않도록 만드는 것이다. 선형 회귀 모델의 경우 특성에 곱해지는 계수(또는 기울기)의 크기를 작게 만드는 일이다."
   ]
  },
  {
   "cell_type": "markdown",
   "id": "7683db8a",
   "metadata": {},
   "source": [
    "### 스케일 정규화"
   ]
  },
  {
   "cell_type": "code",
   "execution_count": 20,
   "id": "601abd08",
   "metadata": {},
   "outputs": [],
   "source": [
    "from sklearn.preprocessing import StandardScaler\n",
    "\n",
    "ss = StandardScaler()\n",
    "# PolynomialFeatures 클래스로 만든 train_poly 를 사용해 객체 훈련\n",
    "ss.fit(train_poly)\n",
    "train_scaled = ss.transform(train_poly)\n",
    "test_scaled = ss.transform(test_poly)"
   ]
  },
  {
   "cell_type": "markdown",
   "id": "20677707",
   "metadata": {},
   "source": [
    "선형 회귀 모델에 규제를 추가한 모델을 릿지(Ridge) 와 라쏘(Lasso) 라고 부른다. 두 모델은 규제를 가하는 방법이 다르다. \n",
    "- 릿지는 계수를 제곱한 값을 기준으로 규제를 적용하고, \n",
    "- 라쏘는 계수의 절댓값을 기준으로 규제를 적용한다."
   ]
  },
  {
   "cell_type": "markdown",
   "id": "6aaf0de2",
   "metadata": {},
   "source": [
    "## 릿지 회귀(Ridge Regression)"
   ]
  },
  {
   "cell_type": "code",
   "execution_count": 21,
   "id": "903a4d02",
   "metadata": {},
   "outputs": [
    {
     "name": "stdout",
     "output_type": "stream",
     "text": [
      "0.9896101671037343\n",
      "0.9790693977615397\n"
     ]
    }
   ],
   "source": [
    "from sklearn.linear_model import Ridge\n",
    "\n",
    "ridge = Ridge()\n",
    "ridge.fit(train_scaled, train_target)\n",
    "\n",
    "print(ridge.score(train_scaled, train_target))\n",
    "print(ridge.score(test_scaled, test_target))"
   ]
  },
  {
   "cell_type": "markdown",
   "id": "10e9b377",
   "metadata": {},
   "source": [
    "테스트 셋 점수가 정상으로 돌아왔다. 확실히 많은 특성을 사용했음에도 불구하고 훈련 셋에 너무 과대적합되지 않아 테스트 셋에서도 좋은 성능을 내고 있다.\n",
    "\n",
    "릿지와 라쏘 모델을 사용할 때 규제의 양을 임의로 조절할 수 있다. 모델 객체를 만들 때 **alpha 매개변수로 규제의 강도를 조절**한다.\n",
    "- alpha 값이 크면 규제 강도가 세지므로 계수 값을 더 줄이고 조금 더 과소적합되도록 유도한다. \n",
    "- alpha 값이 작으면 계수를 줄이는 역할이 줄어들고 선형 회귀 모델과 유사해지므로 과대적합될 가능성이 크다."
   ]
  },
  {
   "cell_type": "code",
   "execution_count": 22,
   "id": "f076df8a",
   "metadata": {},
   "outputs": [],
   "source": [
    "import matplotlib.pyplot as plt\n",
    "\n",
    "train_scores = []\n",
    "test_scores = []\n",
    "\n",
    "alpha_list = [0.001, 0.01, 0.1, 1, 10, 100]\n",
    "\n",
    "for alpha in alpha_list:\n",
    "    # 릿지 모델을 만든다.\n",
    "    ridge = Ridge(alpha=alpha)\n",
    "    # 릿지 모델을 훈련한다.\n",
    "    ridge.fit(train_scaled, train_target)\n",
    "    # 훈련 점수와 테스트 점수를 저장한다.\n",
    "    train_scores.append(ridge.score(train_scaled, train_target))\n",
    "    test_scores.append(ridge.score(test_scaled, test_target))"
   ]
  },
  {
   "cell_type": "markdown",
   "id": "b815f34b",
   "metadata": {},
   "source": [
    "그래프를 그리기 전에, alpha 값을 0.001 부터 10배씩 늘렸기 때문에 이대로 그래프를 그리면 그래프 왼쪽이 너무 촘촘해진다. \n",
    "\n",
    "alpha_list 에 있는 6개의 값을 동일한 간격으로 나타내기 위해 로그 함수로 바꾸어 지수로 표현하겠다. 즉 0.001 은 -3, 0.01 은 -2가 되는 식이다."
   ]
  },
  {
   "cell_type": "code",
   "execution_count": 23,
   "id": "56fe3f51",
   "metadata": {},
   "outputs": [
    {
     "data": {
      "image/png": "[encoded data removed]",
      "text/plain": [
       "<Figure size 432x288 with 1 Axes>"
      ]
     },
     "metadata": {
      "needs_background": "light"
     },
     "output_type": "display_data"
    }
   ],
   "source": [
    "plt.plot(np.log10(alpha_list), train_scores)\n",
    "plt.plot(np.log10(alpha_list), test_scores)\n",
    "plt.show()"
   ]
  },
  {
   "cell_type": "markdown",
   "id": "c7c2e5e1",
   "metadata": {},
   "source": [
    "위 그래프의 왼쪽을 보면 훈련 셋과 테스트 셋의 점수 차이가 아주 크다. 훈련 셋에는 잘 맞고 테스트 셋에는 형편없는 과대적합의 전형적인 모습이다.\n",
    "\n",
    "반대로 오른쪽 편은 훈련 셋과 테스트 셋의 점수가 모두 낮아지는 과소적합으로 가는 모습을 보인다.\n",
    "\n",
    "적절한 alpha 값은 두 그래프가 가장 가깝고 테스트 셋의 점수가 가장 높은 -1, 즉 $10^{−1} = 0.1$ 이다. alpha 값을 0.1 로 하여 최종 모델을 훈련하겠다."
   ]
  },
  {
   "cell_type": "code",
   "execution_count": 24,
   "id": "0d0f575a",
   "metadata": {},
   "outputs": [
    {
     "name": "stdout",
     "output_type": "stream",
     "text": [
      "0.9903815817570366\n",
      "0.9827976465386926\n"
     ]
    }
   ],
   "source": [
    "ridge = Ridge(alpha=0.1)\n",
    "ridge.fit(train_scaled, train_target)\n",
    "\n",
    "print(ridge.score(train_scaled, train_target))\n",
    "print(ridge.score(test_scaled, test_target))"
   ]
  },
  {
   "cell_type": "markdown",
   "id": "d8d86b86",
   "metadata": {},
   "source": [
    "이 모델은 훈련 셋과 테스트 셋의 점수가 비슷하게 모두 높고 과대적합과 과소적합 사이에서 균형을 맞추고 있다. "
   ]
  },
  {
   "cell_type": "markdown",
   "id": "3ba6fb83",
   "metadata": {},
   "source": [
    "## 라쏘 회귀(Lasso Regression)"
   ]
  },
  {
   "cell_type": "code",
   "execution_count": 25,
   "id": "96c8fd42",
   "metadata": {},
   "outputs": [
    {
     "name": "stdout",
     "output_type": "stream",
     "text": [
      "0.989789897208096\n",
      "0.9800593698421883\n"
     ]
    }
   ],
   "source": [
    "from sklearn.linear_model import Lasso\n",
    "\n",
    "lasso = Lasso()\n",
    "lasso.fit(train_scaled, train_target)\n",
    "\n",
    "print(lasso.score(train_scaled, train_target))\n",
    "print(lasso.score(test_scaled, test_target))"
   ]
  },
  {
   "cell_type": "markdown",
   "id": "1b3399c3",
   "metadata": {},
   "source": [
    "테스트 셋의 점수도 릿지만큼 아주 좋다. 라쏘 모델도 alpha 매개변수로 규제의 강도를 조절할 수 있다."
   ]
  },
  {
   "cell_type": "code",
   "execution_count": 26,
   "id": "d86695cb",
   "metadata": {},
   "outputs": [
    {
     "name": "stderr",
     "output_type": "stream",
     "text": [
      "/Users/eecs/opt/anaconda3/envs/py37/lib/python3.7/site-packages/sklearn/linear_model/_coordinate_descent.py:532: ConvergenceWarning: Objective did not converge. You might want to increase the number of iterations. Duality gap: 18778.697957792876, tolerance: 518.2793833333334\n",
      "  positive)\n",
      "/Users/eecs/opt/anaconda3/envs/py37/lib/python3.7/site-packages/sklearn/linear_model/_coordinate_descent.py:532: ConvergenceWarning: Objective did not converge. You might want to increase the number of iterations. Duality gap: 12972.821345404844, tolerance: 518.2793833333334\n",
      "  positive)\n"
     ]
    }
   ],
   "source": [
    "train_scores = []\n",
    "test_scores = []\n",
    "alpha_list = [0.001, 0.01, 0.1, 1, 10, 100]\n",
    "\n",
    "for alpha in alpha_list:\n",
    "    # 라쏘 모델을 만든다. (반복 횟수를 충분히 늘리기 위해 max_iter 사용)\n",
    "    lasso = Lasso(alpha=alpha, max_iter=10000)\n",
    "    # 라쏘 모델을 훈련한다.\n",
    "    lasso.fit(train_scaled, train_target)\n",
    "    # 훈련 점수와 테스트 점수를 저장한다.\n",
    "    train_scores.append(lasso.score(train_scaled, train_target))\n",
    "    test_scores.append(lasso.score(test_scaled, test_target))"
   ]
  },
  {
   "cell_type": "code",
   "execution_count": 27,
   "id": "b8769b37",
   "metadata": {},
   "outputs": [
    {
     "data": {
      "image/png": "[encoded data removed]",
      "text/plain": [
       "<Figure size 432x288 with 1 Axes>"
      ]
     },
     "metadata": {
      "needs_background": "light"
     },
     "output_type": "display_data"
    }
   ],
   "source": [
    "plt.plot(np.log10(alpha_list), train_scores)\n",
    "plt.plot(np.log10(alpha_list), test_scores)\n",
    "plt.show()"
   ]
  },
  {
   "cell_type": "markdown",
   "id": "335ce9e2",
   "metadata": {},
   "source": [
    "이 그래프도 왼쪽은 과대적합을 보여주고 있고, 오른쪽으로 갈수록 훈련 셋과 테스트 셋의 점수가 좁혀지고 있다. \n",
    "\n",
    "가장 오른쪽은 아주 크게 점수가 떨어진다. 이 지점은 분명 과소적합되는 모델일 것이다. \n",
    "\n",
    "라쏘 모델에서 최적의 alpha 값은 1, 즉 $10^1 = 10$ 이다. 이 값으로 다시 모델을 훈련하자."
   ]
  },
  {
   "cell_type": "code",
   "execution_count": 28,
   "id": "1b414967",
   "metadata": {},
   "outputs": [
    {
     "name": "stdout",
     "output_type": "stream",
     "text": [
      "0.9888067471131867\n",
      "0.9824470598706695\n"
     ]
    }
   ],
   "source": [
    "lasso = Lasso(alpha=10)\n",
    "lasso.fit(train_scaled, train_target)\n",
    "\n",
    "print(lasso.score(train_scaled, train_target))\n",
    "print(lasso.score(test_scaled, test_target))"
   ]
  },
  {
   "cell_type": "markdown",
   "id": "936ace05",
   "metadata": {},
   "source": [
    "모델이 잘 훈련된 것 같다. 특성을 많이 사용했지만, 릿지와 마찬가지로 라쏘 모델이 과대적합을 잘 억제하고 테스트 셋의 성능을 크게 높였다."
   ]
  },
  {
   "cell_type": "code",
   "execution_count": null,
   "id": "97280557",
   "metadata": {},
   "outputs": [],
   "source": []
  }
 ],
 "metadata": {
  "kernelspec": {
   "display_name": "Python 3",
   "language": "python",
   "name": "python3"
  },
  "language_info": {
   "codemirror_mode": {
    "name": "ipython",
    "version": 3
   },
   "file_extension": ".py",
   "mimetype": "text/x-python",
   "name": "python",
   "nbconvert_exporter": "python",
   "pygments_lexer": "ipython3",
   "version": "3.7.10"
  }
 },
 "nbformat": 4,
 "nbformat_minor": 5
}
